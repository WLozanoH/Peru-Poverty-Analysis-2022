{
 "cells": [
  {
   "cell_type": "markdown",
   "metadata": {},
   "source": [
    "# “Data cleaning for poverty analysis in Peru (2022)”\n",
    "\n",
    "* Análisis de la evolución de la pobreza y bienestar de los hogares en Perú utilizando data de ENAHO 2022.\n",
    "\n",
    "👉 módulo (Enaho01a-2022-500)"
   ]
  },
  {
   "cell_type": "markdown",
   "metadata": {},
   "source": [
    "* Se usará Python (Pandas, NumPy, Matplotlib, Seaborn) para analizar más de 87 000 registros sobre empleo e ingresos de Perú (2022).\n",
    "\n",
    "* Se hará una limpieza de datos para manejar valores faltantes, duplicados y valores atípicos, asegurando la integridad de los datos para el análisis.\n",
    "\n",
    "* Se generará visualizaciones y análisis estadístico para identificar disparidades en los ingresos entre las áreas rurales y urbanas, destacando una brecha significativa de ingresos entre las áreas rurales y rurales."
   ]
  },
  {
   "cell_type": "code",
   "execution_count": 1,
   "metadata": {},
   "outputs": [],
   "source": [
    "#Importamos las librerías necesarias\n",
    "import pandas as pd\n",
    "import matplotlib.pyplot as plt\n",
    "import seaborn as sns\n",
    "import numpy as np\n",
    "import warnings\n",
    "warnings.filterwarnings('ignore')\n"
   ]
  },
  {
   "cell_type": "markdown",
   "metadata": {},
   "source": [
    "📌 Los datos son descargados de la web oficial de ENAHO(Encuesta Nacional de hogares) - INEI (Instituto Nacional de Estadística e Informática) 2022\n",
    "\n",
    "👉👉 https://www.datosabiertos.gob.pe/dataset/encuesta-nacional-de-hogares-enaho-2022-instituto-nacional-de-estad%C3%ADstica-e-inform%C3%A1tica-%E2%80%93\n",
    "\n",
    "📌 Descargar el módulo ingresos y empleo (Enaho01a-2022-500) directo aquí:👇👇\n",
    "\n",
    "✅ https://github.com/WLozanoH/Poverty-Peru/blob/main/Enaho01a-2022-500.zip"
   ]
  },
  {
   "cell_type": "code",
   "execution_count": 2,
   "metadata": {},
   "outputs": [
    {
     "data": {
      "text/html": [
       "<div>\n",
       "<style scoped>\n",
       "    .dataframe tbody tr th:only-of-type {\n",
       "        vertical-align: middle;\n",
       "    }\n",
       "\n",
       "    .dataframe tbody tr th {\n",
       "        vertical-align: top;\n",
       "    }\n",
       "\n",
       "    .dataframe thead th {\n",
       "        text-align: right;\n",
       "    }\n",
       "</style>\n",
       "<table border=\"1\" class=\"dataframe\">\n",
       "  <thead>\n",
       "    <tr style=\"text-align: right;\">\n",
       "      <th></th>\n",
       "      <th>MES</th>\n",
       "      <th>UBIGEO</th>\n",
       "      <th>DOMINIO</th>\n",
       "      <th>ESTRATO</th>\n",
       "      <th>P502</th>\n",
       "      <th>P503</th>\n",
       "      <th>P507</th>\n",
       "      <th>P510</th>\n",
       "      <th>P510A1</th>\n",
       "      <th>P5111</th>\n",
       "      <th>P5116</th>\n",
       "      <th>P51112</th>\n",
       "      <th>P511A</th>\n",
       "      <th>P524A1</th>\n",
       "      <th>OCUPINF</th>\n",
       "      <th>FAC500A</th>\n",
       "    </tr>\n",
       "  </thead>\n",
       "  <tbody>\n",
       "    <tr>\n",
       "      <th>0</th>\n",
       "      <td>2</td>\n",
       "      <td>10101</td>\n",
       "      <td>4</td>\n",
       "      <td>4</td>\n",
       "      <td>NaN</td>\n",
       "      <td>NaN</td>\n",
       "      <td>3.0</td>\n",
       "      <td>2.0</td>\n",
       "      <td>NaN</td>\n",
       "      <td>1.0</td>\n",
       "      <td>0.0</td>\n",
       "      <td>0.0</td>\n",
       "      <td>1.0</td>\n",
       "      <td>5000.0</td>\n",
       "      <td>2.0</td>\n",
       "      <td>48.341564</td>\n",
       "    </tr>\n",
       "    <tr>\n",
       "      <th>1</th>\n",
       "      <td>2</td>\n",
       "      <td>10101</td>\n",
       "      <td>4</td>\n",
       "      <td>4</td>\n",
       "      <td>NaN</td>\n",
       "      <td>NaN</td>\n",
       "      <td>4.0</td>\n",
       "      <td>6.0</td>\n",
       "      <td>2.0</td>\n",
       "      <td>0.0</td>\n",
       "      <td>0.0</td>\n",
       "      <td>0.0</td>\n",
       "      <td>7.0</td>\n",
       "      <td>800.0</td>\n",
       "      <td>1.0</td>\n",
       "      <td>46.851582</td>\n",
       "    </tr>\n",
       "    <tr>\n",
       "      <th>2</th>\n",
       "      <td>2</td>\n",
       "      <td>10101</td>\n",
       "      <td>4</td>\n",
       "      <td>4</td>\n",
       "      <td>NaN</td>\n",
       "      <td>NaN</td>\n",
       "      <td>3.0</td>\n",
       "      <td>2.0</td>\n",
       "      <td>NaN</td>\n",
       "      <td>1.0</td>\n",
       "      <td>0.0</td>\n",
       "      <td>0.0</td>\n",
       "      <td>1.0</td>\n",
       "      <td>1660.0</td>\n",
       "      <td>2.0</td>\n",
       "      <td>50.011681</td>\n",
       "    </tr>\n",
       "    <tr>\n",
       "      <th>3</th>\n",
       "      <td>2</td>\n",
       "      <td>10101</td>\n",
       "      <td>4</td>\n",
       "      <td>4</td>\n",
       "      <td>NaN</td>\n",
       "      <td>NaN</td>\n",
       "      <td>3.0</td>\n",
       "      <td>2.0</td>\n",
       "      <td>NaN</td>\n",
       "      <td>1.0</td>\n",
       "      <td>0.0</td>\n",
       "      <td>0.0</td>\n",
       "      <td>1.0</td>\n",
       "      <td>2300.0</td>\n",
       "      <td>2.0</td>\n",
       "      <td>26.674692</td>\n",
       "    </tr>\n",
       "    <tr>\n",
       "      <th>4</th>\n",
       "      <td>2</td>\n",
       "      <td>10101</td>\n",
       "      <td>4</td>\n",
       "      <td>4</td>\n",
       "      <td>NaN</td>\n",
       "      <td>NaN</td>\n",
       "      <td>2.0</td>\n",
       "      <td>NaN</td>\n",
       "      <td>3.0</td>\n",
       "      <td>0.0</td>\n",
       "      <td>0.0</td>\n",
       "      <td>0.0</td>\n",
       "      <td>NaN</td>\n",
       "      <td>NaN</td>\n",
       "      <td>1.0</td>\n",
       "      <td>124.382034</td>\n",
       "    </tr>\n",
       "  </tbody>\n",
       "</table>\n",
       "</div>"
      ],
      "text/plain": [
       "   MES  UBIGEO  DOMINIO  ESTRATO  P502  P503  P507  P510  P510A1  P5111  \\\n",
       "0    2   10101        4        4   NaN   NaN   3.0   2.0     NaN    1.0   \n",
       "1    2   10101        4        4   NaN   NaN   4.0   6.0     2.0    0.0   \n",
       "2    2   10101        4        4   NaN   NaN   3.0   2.0     NaN    1.0   \n",
       "3    2   10101        4        4   NaN   NaN   3.0   2.0     NaN    1.0   \n",
       "4    2   10101        4        4   NaN   NaN   2.0   NaN     3.0    0.0   \n",
       "\n",
       "   P5116  P51112  P511A  P524A1  OCUPINF     FAC500A  \n",
       "0    0.0     0.0    1.0  5000.0      2.0   48.341564  \n",
       "1    0.0     0.0    7.0   800.0      1.0   46.851582  \n",
       "2    0.0     0.0    1.0  1660.0      2.0   50.011681  \n",
       "3    0.0     0.0    1.0  2300.0      2.0   26.674692  \n",
       "4    0.0     0.0    NaN     NaN      1.0  124.382034  "
      ]
     },
     "execution_count": 2,
     "metadata": {},
     "output_type": "execute_result"
    }
   ],
   "source": [
    "#CARGAMOS SOLO LA DATA A ANALIZAR\n",
    "\n",
    "df = pd.read_csv('Enaho01a-2022-500.csv', sep=',', usecols=['MES','UBIGEO','DOMINIO','ESTRATO',\n",
    "                                                            'P502','P503','P507','P510','P510A1','P5111','P5116',\n",
    "                                                            'P51112','P511A','P524A1','OCUPINF','FAC500A'],\n",
    "                 na_values= ' ')\n",
    "df.head()"
   ]
  },
  {
   "cell_type": "markdown",
   "metadata": {},
   "source": [
    "📌 Renombrando las variables para mejor manipulación de los datos"
   ]
  },
  {
   "cell_type": "code",
   "execution_count": 3,
   "metadata": {},
   "outputs": [],
   "source": [
    "#Renombrando las variables\n",
    "df.rename(columns={'P502':'empleo_fijo', \n",
    "                   'P503':'negocio_propio',\n",
    "                   'P507':'ocupacion_principal',\n",
    "                   'P510':'trabajo_ocup_principal',\n",
    "                   'P510A1':'registro_sunat',\n",
    "                   'P5111':'sueldo_ingresos',\n",
    "                   'P5116':'honorarios_ingresos',\n",
    "                   'P51112': 'no_recibe_ingresos',\n",
    "                   'P511A':'tipo_contrato',\n",
    "                   'P524A1':'ingreso_total',\n",
    "                   'FAC500A':'fact_expan_ingresos_empleo'}, inplace=True)"
   ]
  },
  {
   "cell_type": "code",
   "execution_count": 4,
   "metadata": {},
   "outputs": [
    {
     "data": {
      "text/html": [
       "<div>\n",
       "<style scoped>\n",
       "    .dataframe tbody tr th:only-of-type {\n",
       "        vertical-align: middle;\n",
       "    }\n",
       "\n",
       "    .dataframe tbody tr th {\n",
       "        vertical-align: top;\n",
       "    }\n",
       "\n",
       "    .dataframe thead th {\n",
       "        text-align: right;\n",
       "    }\n",
       "</style>\n",
       "<table border=\"1\" class=\"dataframe\">\n",
       "  <thead>\n",
       "    <tr style=\"text-align: right;\">\n",
       "      <th></th>\n",
       "      <th>mes</th>\n",
       "      <th>ubigeo</th>\n",
       "      <th>dominio</th>\n",
       "      <th>estrato</th>\n",
       "      <th>empleo_fijo</th>\n",
       "      <th>negocio_propio</th>\n",
       "      <th>ocupacion_principal</th>\n",
       "      <th>trabajo_ocup_principal</th>\n",
       "      <th>registro_sunat</th>\n",
       "      <th>sueldo_ingresos</th>\n",
       "      <th>honorarios_ingresos</th>\n",
       "      <th>no_recibe_ingresos</th>\n",
       "      <th>tipo_contrato</th>\n",
       "      <th>ingreso_total</th>\n",
       "      <th>ocupinf</th>\n",
       "      <th>fact_expan_ingresos_empleo</th>\n",
       "    </tr>\n",
       "  </thead>\n",
       "  <tbody>\n",
       "    <tr>\n",
       "      <th>0</th>\n",
       "      <td>2</td>\n",
       "      <td>10101</td>\n",
       "      <td>4</td>\n",
       "      <td>4</td>\n",
       "      <td>NaN</td>\n",
       "      <td>NaN</td>\n",
       "      <td>3.0</td>\n",
       "      <td>2.0</td>\n",
       "      <td>NaN</td>\n",
       "      <td>1.0</td>\n",
       "      <td>0.0</td>\n",
       "      <td>0.0</td>\n",
       "      <td>1.0</td>\n",
       "      <td>5000.0</td>\n",
       "      <td>2.0</td>\n",
       "      <td>48.341564</td>\n",
       "    </tr>\n",
       "    <tr>\n",
       "      <th>1</th>\n",
       "      <td>2</td>\n",
       "      <td>10101</td>\n",
       "      <td>4</td>\n",
       "      <td>4</td>\n",
       "      <td>NaN</td>\n",
       "      <td>NaN</td>\n",
       "      <td>4.0</td>\n",
       "      <td>6.0</td>\n",
       "      <td>2.0</td>\n",
       "      <td>0.0</td>\n",
       "      <td>0.0</td>\n",
       "      <td>0.0</td>\n",
       "      <td>7.0</td>\n",
       "      <td>800.0</td>\n",
       "      <td>1.0</td>\n",
       "      <td>46.851582</td>\n",
       "    </tr>\n",
       "    <tr>\n",
       "      <th>2</th>\n",
       "      <td>2</td>\n",
       "      <td>10101</td>\n",
       "      <td>4</td>\n",
       "      <td>4</td>\n",
       "      <td>NaN</td>\n",
       "      <td>NaN</td>\n",
       "      <td>3.0</td>\n",
       "      <td>2.0</td>\n",
       "      <td>NaN</td>\n",
       "      <td>1.0</td>\n",
       "      <td>0.0</td>\n",
       "      <td>0.0</td>\n",
       "      <td>1.0</td>\n",
       "      <td>1660.0</td>\n",
       "      <td>2.0</td>\n",
       "      <td>50.011681</td>\n",
       "    </tr>\n",
       "    <tr>\n",
       "      <th>3</th>\n",
       "      <td>2</td>\n",
       "      <td>10101</td>\n",
       "      <td>4</td>\n",
       "      <td>4</td>\n",
       "      <td>NaN</td>\n",
       "      <td>NaN</td>\n",
       "      <td>3.0</td>\n",
       "      <td>2.0</td>\n",
       "      <td>NaN</td>\n",
       "      <td>1.0</td>\n",
       "      <td>0.0</td>\n",
       "      <td>0.0</td>\n",
       "      <td>1.0</td>\n",
       "      <td>2300.0</td>\n",
       "      <td>2.0</td>\n",
       "      <td>26.674692</td>\n",
       "    </tr>\n",
       "    <tr>\n",
       "      <th>4</th>\n",
       "      <td>2</td>\n",
       "      <td>10101</td>\n",
       "      <td>4</td>\n",
       "      <td>4</td>\n",
       "      <td>NaN</td>\n",
       "      <td>NaN</td>\n",
       "      <td>2.0</td>\n",
       "      <td>NaN</td>\n",
       "      <td>3.0</td>\n",
       "      <td>0.0</td>\n",
       "      <td>0.0</td>\n",
       "      <td>0.0</td>\n",
       "      <td>NaN</td>\n",
       "      <td>NaN</td>\n",
       "      <td>1.0</td>\n",
       "      <td>124.382034</td>\n",
       "    </tr>\n",
       "  </tbody>\n",
       "</table>\n",
       "</div>"
      ],
      "text/plain": [
       "   mes  ubigeo  dominio  estrato  empleo_fijo  negocio_propio  \\\n",
       "0    2   10101        4        4          NaN             NaN   \n",
       "1    2   10101        4        4          NaN             NaN   \n",
       "2    2   10101        4        4          NaN             NaN   \n",
       "3    2   10101        4        4          NaN             NaN   \n",
       "4    2   10101        4        4          NaN             NaN   \n",
       "\n",
       "   ocupacion_principal  trabajo_ocup_principal  registro_sunat  \\\n",
       "0                  3.0                     2.0             NaN   \n",
       "1                  4.0                     6.0             2.0   \n",
       "2                  3.0                     2.0             NaN   \n",
       "3                  3.0                     2.0             NaN   \n",
       "4                  2.0                     NaN             3.0   \n",
       "\n",
       "   sueldo_ingresos  honorarios_ingresos  no_recibe_ingresos  tipo_contrato  \\\n",
       "0              1.0                  0.0                 0.0            1.0   \n",
       "1              0.0                  0.0                 0.0            7.0   \n",
       "2              1.0                  0.0                 0.0            1.0   \n",
       "3              1.0                  0.0                 0.0            1.0   \n",
       "4              0.0                  0.0                 0.0            NaN   \n",
       "\n",
       "   ingreso_total  ocupinf  fact_expan_ingresos_empleo  \n",
       "0         5000.0      2.0                   48.341564  \n",
       "1          800.0      1.0                   46.851582  \n",
       "2         1660.0      2.0                   50.011681  \n",
       "3         2300.0      2.0                   26.674692  \n",
       "4            NaN      1.0                  124.382034  "
      ]
     },
     "execution_count": 4,
     "metadata": {},
     "output_type": "execute_result"
    }
   ],
   "source": [
    "#convertir a minuscula todos las variables del dataframe para mejor manipulación\n",
    "df.columns = df.columns.str.lower()\n",
    "df.head()"
   ]
  },
  {
   "cell_type": "code",
   "execution_count": 5,
   "metadata": {},
   "outputs": [
    {
     "name": "stdout",
     "output_type": "stream",
     "text": [
      "<class 'pandas.core.frame.DataFrame'>\n",
      "RangeIndex: 87661 entries, 0 to 87660\n",
      "Data columns (total 16 columns):\n",
      " #   Column                      Non-Null Count  Dtype  \n",
      "---  ------                      --------------  -----  \n",
      " 0   mes                         87661 non-null  int64  \n",
      " 1   ubigeo                      87661 non-null  int64  \n",
      " 2   dominio                     87661 non-null  int64  \n",
      " 3   estrato                     87661 non-null  int64  \n",
      " 4   empleo_fijo                 28473 non-null  float64\n",
      " 5   negocio_propio              27774 non-null  float64\n",
      " 6   ocupacion_principal         65240 non-null  float64\n",
      " 7   trabajo_ocup_principal      25050 non-null  float64\n",
      " 8   registro_sunat              58720 non-null  float64\n",
      " 9   sueldo_ingresos             64973 non-null  float64\n",
      " 10  honorarios_ingresos         64973 non-null  float64\n",
      " 11  no_recibe_ingresos          64973 non-null  float64\n",
      " 12  tipo_contrato               37511 non-null  float64\n",
      " 13  ingreso_total               25640 non-null  float64\n",
      " 14  ocupinf                     61181 non-null  float64\n",
      " 15  fact_expan_ingresos_empleo  87661 non-null  float64\n",
      "dtypes: float64(12), int64(4)\n",
      "memory usage: 10.7 MB\n"
     ]
    }
   ],
   "source": [
    "df.info()"
   ]
  },
  {
   "cell_type": "markdown",
   "metadata": {},
   "source": [
    "📌 crear un diccionario para darle nombre a los meses  del año 2022"
   ]
  },
  {
   "cell_type": "code",
   "execution_count": 6,
   "metadata": {},
   "outputs": [],
   "source": [
    "#crear un diccionario para darle nombre a los meses\n",
    "meses = {\n",
    "    1: 'Enero', 2: 'Febrero', 3: 'Marzo', 4: 'Abril', \n",
    "    5: 'Mayo', 6: 'Junio', 7: 'Julio', 8: 'Agosto', \n",
    "    9: 'Septiembre', 10: 'Octubre', 11: 'Noviembre', 12: 'Diciembre'\n",
    "}\n",
    "\n",
    "# Reemplazar los valores numéricos por los nombres de meses\n",
    "df['mes'] = df['mes'].map(meses)\n",
    "\n",
    "#orden de meses\n",
    "orden_meses = ['Enero','Febrero','Marzo','Abril','Mayo','Junio','Julio','Agosto', \n",
    "    'Septiembre','Octubre','Noviembre','Diciembre']\n",
    "\n",
    "#ordenando los meses\n",
    "df['mes'] = pd.Categorical(df['mes'],\n",
    "                           categories=orden_meses,\n",
    "                           ordered=True)"
   ]
  },
  {
   "cell_type": "markdown",
   "metadata": {},
   "source": [
    "📌 Crear un diccionario para darle nombre a la subclasificación del Dominio Geográfico"
   ]
  },
  {
   "cell_type": "code",
   "execution_count": 7,
   "metadata": {},
   "outputs": [],
   "source": [
    "#crear un diccionario para Dominio Geográfico, \n",
    "# variable = 'DOMINIO' para  almacenar los datos de cada región\n",
    "dominio_geográfico = {\n",
    "    1: 'Costa Norte',\n",
    "    2: 'Costa Centro',\n",
    "    3: 'Costa Sur',\n",
    "    4: 'Sierra Norte',\n",
    "    5: 'Sierra Centro',\n",
    "    6: 'Sierra Sur',\n",
    "    7: 'Selva',\n",
    "    8: 'Lima Metropolitana'\n",
    "}\n",
    "\n",
    "#Reemplazar los valores numéricos por los nombres de dominio geográfico\n",
    "df['dominio'] = df['dominio'].map(dominio_geográfico)\n"
   ]
  },
  {
   "cell_type": "markdown",
   "metadata": {},
   "source": [
    "📌 Crear un diccionario para estrato la subclasificación de estrato geográfico - se determina las zonas urbanas y rurales\n"
   ]
  },
  {
   "cell_type": "code",
   "execution_count": 8,
   "metadata": {},
   "outputs": [],
   "source": [
    "#Crear un diccionario para estrato geográfico\n",
    "#Área de Empadronamiento Rural = AER\n",
    "estrato_geografico = {\n",
    "    \n",
    "    1: \"500,000 a más\", \n",
    "    2: \"100,000 a 499,999\", \n",
    "    3: \"50,000 a 99,999\", \n",
    "    4: \"20,000 a 49,999\",\n",
    "    5: \"2,000 a 19,999\", \n",
    "    6: \"500 a 1,999\", \n",
    "    7: \"AER Compuesto\",\n",
    "    8: \"AER Simple\"\n",
    "    \n",
    "}\n",
    "\n",
    "df['estrato'] = df['estrato'].map(estrato_geografico)"
   ]
  },
  {
   "cell_type": "markdown",
   "metadata": {},
   "source": [
    "📌 Analizamos la variable \"ESTRATO\" para clasificar la muestra en URBANO y RURAL\n",
    "\n",
    "    'AER' = Área de empadronamiento RURAL"
   ]
  },
  {
   "cell_type": "code",
   "execution_count": 9,
   "metadata": {},
   "outputs": [],
   "source": [
    "#Creando la variable 'ZONAS' para identificar la muestra urbana y rural\n",
    "df['zonas'] = df['estrato']\n",
    "#clasificamos la variable 'urbana' y 'rural' usando lambda\n",
    "df['zonas'] = df['zonas'].apply(lambda x:'rural' if x == 'AER Simple' or  x == 'AER Compuesto' else 'urbano')"
   ]
  },
  {
   "cell_type": "code",
   "execution_count": 10,
   "metadata": {},
   "outputs": [
    {
     "name": "stdout",
     "output_type": "stream",
     "text": [
      "zonas\n",
      "urbano    63453\n",
      "rural     24208\n",
      "Name: count, dtype: int64\n",
      "---------------\n",
      "zonas\n",
      "urbano    72.384527\n",
      "rural     27.615473\n",
      "Name: count, dtype: float64\n"
     ]
    }
   ],
   "source": [
    "#muetra total para la zona urvana y rural\n",
    "print(df['zonas'].value_counts())\n",
    "print('---------------')\n",
    "#porcentaje de la muetra total para la zona urvana y rural\n",
    "print(df['zonas'].value_counts()/ df['zonas'].shape[0] *100)"
   ]
  },
  {
   "cell_type": "code",
   "execution_count": 11,
   "metadata": {},
   "outputs": [
    {
     "data": {
      "text/html": [
       "<div>\n",
       "<style scoped>\n",
       "    .dataframe tbody tr th:only-of-type {\n",
       "        vertical-align: middle;\n",
       "    }\n",
       "\n",
       "    .dataframe tbody tr th {\n",
       "        vertical-align: top;\n",
       "    }\n",
       "\n",
       "    .dataframe thead th {\n",
       "        text-align: right;\n",
       "    }\n",
       "</style>\n",
       "<table border=\"1\" class=\"dataframe\">\n",
       "  <thead>\n",
       "    <tr style=\"text-align: right;\">\n",
       "      <th></th>\n",
       "      <th>mes</th>\n",
       "      <th>ubigeo</th>\n",
       "      <th>dominio</th>\n",
       "      <th>estrato</th>\n",
       "      <th>empleo_fijo</th>\n",
       "      <th>negocio_propio</th>\n",
       "      <th>ocupacion_principal</th>\n",
       "      <th>trabajo_ocup_principal</th>\n",
       "      <th>registro_sunat</th>\n",
       "      <th>sueldo_ingresos</th>\n",
       "      <th>honorarios_ingresos</th>\n",
       "      <th>no_recibe_ingresos</th>\n",
       "      <th>tipo_contrato</th>\n",
       "      <th>ingreso_total</th>\n",
       "      <th>ocupinf</th>\n",
       "      <th>fact_expan_ingresos_empleo</th>\n",
       "      <th>zonas</th>\n",
       "    </tr>\n",
       "  </thead>\n",
       "  <tbody>\n",
       "    <tr>\n",
       "      <th>0</th>\n",
       "      <td>Febrero</td>\n",
       "      <td>10101</td>\n",
       "      <td>Sierra Norte</td>\n",
       "      <td>20,000 a 49,999</td>\n",
       "      <td>NaN</td>\n",
       "      <td>NaN</td>\n",
       "      <td>3.0</td>\n",
       "      <td>2.0</td>\n",
       "      <td>NaN</td>\n",
       "      <td>1.0</td>\n",
       "      <td>0.0</td>\n",
       "      <td>0.0</td>\n",
       "      <td>1.0</td>\n",
       "      <td>5000.0</td>\n",
       "      <td>2.0</td>\n",
       "      <td>48.341564</td>\n",
       "      <td>urbano</td>\n",
       "    </tr>\n",
       "    <tr>\n",
       "      <th>1</th>\n",
       "      <td>Febrero</td>\n",
       "      <td>10101</td>\n",
       "      <td>Sierra Norte</td>\n",
       "      <td>20,000 a 49,999</td>\n",
       "      <td>NaN</td>\n",
       "      <td>NaN</td>\n",
       "      <td>4.0</td>\n",
       "      <td>6.0</td>\n",
       "      <td>2.0</td>\n",
       "      <td>0.0</td>\n",
       "      <td>0.0</td>\n",
       "      <td>0.0</td>\n",
       "      <td>7.0</td>\n",
       "      <td>800.0</td>\n",
       "      <td>1.0</td>\n",
       "      <td>46.851582</td>\n",
       "      <td>urbano</td>\n",
       "    </tr>\n",
       "    <tr>\n",
       "      <th>2</th>\n",
       "      <td>Febrero</td>\n",
       "      <td>10101</td>\n",
       "      <td>Sierra Norte</td>\n",
       "      <td>20,000 a 49,999</td>\n",
       "      <td>NaN</td>\n",
       "      <td>NaN</td>\n",
       "      <td>3.0</td>\n",
       "      <td>2.0</td>\n",
       "      <td>NaN</td>\n",
       "      <td>1.0</td>\n",
       "      <td>0.0</td>\n",
       "      <td>0.0</td>\n",
       "      <td>1.0</td>\n",
       "      <td>1660.0</td>\n",
       "      <td>2.0</td>\n",
       "      <td>50.011681</td>\n",
       "      <td>urbano</td>\n",
       "    </tr>\n",
       "    <tr>\n",
       "      <th>3</th>\n",
       "      <td>Febrero</td>\n",
       "      <td>10101</td>\n",
       "      <td>Sierra Norte</td>\n",
       "      <td>20,000 a 49,999</td>\n",
       "      <td>NaN</td>\n",
       "      <td>NaN</td>\n",
       "      <td>3.0</td>\n",
       "      <td>2.0</td>\n",
       "      <td>NaN</td>\n",
       "      <td>1.0</td>\n",
       "      <td>0.0</td>\n",
       "      <td>0.0</td>\n",
       "      <td>1.0</td>\n",
       "      <td>2300.0</td>\n",
       "      <td>2.0</td>\n",
       "      <td>26.674692</td>\n",
       "      <td>urbano</td>\n",
       "    </tr>\n",
       "    <tr>\n",
       "      <th>4</th>\n",
       "      <td>Febrero</td>\n",
       "      <td>10101</td>\n",
       "      <td>Sierra Norte</td>\n",
       "      <td>20,000 a 49,999</td>\n",
       "      <td>NaN</td>\n",
       "      <td>NaN</td>\n",
       "      <td>2.0</td>\n",
       "      <td>NaN</td>\n",
       "      <td>3.0</td>\n",
       "      <td>0.0</td>\n",
       "      <td>0.0</td>\n",
       "      <td>0.0</td>\n",
       "      <td>NaN</td>\n",
       "      <td>NaN</td>\n",
       "      <td>1.0</td>\n",
       "      <td>124.382034</td>\n",
       "      <td>urbano</td>\n",
       "    </tr>\n",
       "  </tbody>\n",
       "</table>\n",
       "</div>"
      ],
      "text/plain": [
       "       mes  ubigeo       dominio          estrato  empleo_fijo  \\\n",
       "0  Febrero   10101  Sierra Norte  20,000 a 49,999          NaN   \n",
       "1  Febrero   10101  Sierra Norte  20,000 a 49,999          NaN   \n",
       "2  Febrero   10101  Sierra Norte  20,000 a 49,999          NaN   \n",
       "3  Febrero   10101  Sierra Norte  20,000 a 49,999          NaN   \n",
       "4  Febrero   10101  Sierra Norte  20,000 a 49,999          NaN   \n",
       "\n",
       "   negocio_propio  ocupacion_principal  trabajo_ocup_principal  \\\n",
       "0             NaN                  3.0                     2.0   \n",
       "1             NaN                  4.0                     6.0   \n",
       "2             NaN                  3.0                     2.0   \n",
       "3             NaN                  3.0                     2.0   \n",
       "4             NaN                  2.0                     NaN   \n",
       "\n",
       "   registro_sunat  sueldo_ingresos  honorarios_ingresos  no_recibe_ingresos  \\\n",
       "0             NaN              1.0                  0.0                 0.0   \n",
       "1             2.0              0.0                  0.0                 0.0   \n",
       "2             NaN              1.0                  0.0                 0.0   \n",
       "3             NaN              1.0                  0.0                 0.0   \n",
       "4             3.0              0.0                  0.0                 0.0   \n",
       "\n",
       "   tipo_contrato  ingreso_total  ocupinf  fact_expan_ingresos_empleo   zonas  \n",
       "0            1.0         5000.0      2.0                   48.341564  urbano  \n",
       "1            7.0          800.0      1.0                   46.851582  urbano  \n",
       "2            1.0         1660.0      2.0                   50.011681  urbano  \n",
       "3            1.0         2300.0      2.0                   26.674692  urbano  \n",
       "4            NaN            NaN      1.0                  124.382034  urbano  "
      ]
     },
     "execution_count": 11,
     "metadata": {},
     "output_type": "execute_result"
    }
   ],
   "source": [
    "df.head()"
   ]
  },
  {
   "cell_type": "markdown",
   "metadata": {},
   "source": [
    "📌 Analizar valores nulos, duplicados y únicos"
   ]
  },
  {
   "cell_type": "code",
   "execution_count": 12,
   "metadata": {},
   "outputs": [
    {
     "name": "stdout",
     "output_type": "stream",
     "text": [
      "                            total_nulos  Porcentaje Nulos(%)\n",
      "mes                                   0             0.000000\n",
      "ubigeo                                0             0.000000\n",
      "dominio                               0             0.000000\n",
      "estrato                               0             0.000000\n",
      "empleo_fijo                       59188            67.519193\n",
      "negocio_propio                    59887            68.316583\n",
      "ocupacion_principal               22421            25.576938\n",
      "trabajo_ocup_principal            62611            71.424008\n",
      "registro_sunat                    28941            33.014682\n",
      "sueldo_ingresos                   22688            25.881521\n",
      "honorarios_ingresos               22688            25.881521\n",
      "no_recibe_ingresos                22688            25.881521\n",
      "tipo_contrato                     50150            57.209021\n",
      "ingreso_total                     62021            70.750961\n",
      "ocupinf                           26480            30.207276\n",
      "fact_expan_ingresos_empleo            0             0.000000\n",
      "zonas                                 0             0.000000\n"
     ]
    }
   ],
   "source": [
    "#verificando valores nulos\n",
    "total_valores_nulos = df.isnull().sum()\n",
    "porcentaje_valores_nulos = (total_valores_nulos/len(df)) *100\n",
    "\n",
    "#creamos un dataframe para mostrar solo resultados nulos\n",
    "resultado_nulos = pd.DataFrame({'total_nulos':total_valores_nulos,'Porcentaje Nulos(%)':porcentaje_valores_nulos})\n",
    "print(resultado_nulos)\n",
    "\n"
   ]
  },
  {
   "cell_type": "markdown",
   "metadata": {},
   "source": [
    "# Analizando y completando valores nulos para cada variable"
   ]
  },
  {
   "cell_type": "markdown",
   "metadata": {},
   "source": [
    "📌 Análisis de 'empleo_fijo' = tiene empleo fijo o no"
   ]
  },
  {
   "cell_type": "code",
   "execution_count": 13,
   "metadata": {},
   "outputs": [],
   "source": [
    "#Análisis de variable 'empleo_fijo':\n",
    "## creamos un nueva categoría \"Desconocido\" para guardar los valores nulos\n",
    "df['empleo_fijo'].fillna('missing value', inplace=True)\n",
    "#reemplazar valores en 'empleo fijo': 1:empleo fijo, 0: no empleo fijo, desconocido : desconocido\n",
    "df['empleo_fijo'] = df['empleo_fijo'].replace({1.0: 1, 2.0: 0})\n"
   ]
  },
  {
   "cell_type": "code",
   "execution_count": 14,
   "metadata": {},
   "outputs": [],
   "source": [
    "#mapeamos empleo fijo\n",
    "empleofijo = {\n",
    "    \n",
    "    1:'tiene',\n",
    "    0: 'no tiene',\n",
    "    'missing value': 'missing value'\n",
    "}\n",
    "\n",
    "#reemplazamos los valores en la variable 'empleo_fijo'\n",
    "df['empleo_fijo'] = df['empleo_fijo'].map(empleofijo)"
   ]
  },
  {
   "cell_type": "code",
   "execution_count": 15,
   "metadata": {},
   "outputs": [
    {
     "data": {
      "text/plain": [
       "empleo_fijo\n",
       "missing value    59188\n",
       "no tiene         27774\n",
       "tiene              699\n",
       "Name: count, dtype: int64"
      ]
     },
     "execution_count": 15,
     "metadata": {},
     "output_type": "execute_result"
    }
   ],
   "source": [
    "#revisamos valores en:\n",
    "df['empleo_fijo'].value_counts()"
   ]
  },
  {
   "cell_type": "markdown",
   "metadata": {},
   "source": [
    "📌 Análisis de 'negocio_propio' = tiene negocio propio o no"
   ]
  },
  {
   "cell_type": "code",
   "execution_count": 16,
   "metadata": {},
   "outputs": [],
   "source": [
    "#Análisis de variable 'negocio_propio':\n",
    "## creamos un nueva categoría \"Desconocido\" para guardar los valores nulos\n",
    "df['negocio_propio'].fillna('missing value', inplace=True)\n",
    "#reemplazar valores en 'empleo fijo': 1:negocio propio, 0: no negocio propio, desconocido : desconocido\n",
    "df['negocio_propio'] = df['negocio_propio'].replace({1.0: 1, 2.0: 0})"
   ]
  },
  {
   "cell_type": "code",
   "execution_count": 17,
   "metadata": {},
   "outputs": [],
   "source": [
    "#mapeamos negocio_propio\n",
    "negociopropio = {\n",
    "    \n",
    "    1:'tiene',\n",
    "    0: 'no tiene',\n",
    "    'missing value': 'missing value'\n",
    "}\n",
    "\n",
    "#reemplazamos los valores en la variable 'empleo_fijo'\n",
    "df['negocio_propio'] = df['negocio_propio'].map(negociopropio)"
   ]
  },
  {
   "cell_type": "code",
   "execution_count": 18,
   "metadata": {},
   "outputs": [
    {
     "data": {
      "text/plain": [
       "negocio_propio\n",
       "missing value    59887\n",
       "no tiene         27387\n",
       "tiene              387\n",
       "Name: count, dtype: int64"
      ]
     },
     "execution_count": 18,
     "metadata": {},
     "output_type": "execute_result"
    }
   ],
   "source": [
    "#revisamos valores en:\n",
    "df['negocio_propio'].value_counts()"
   ]
  },
  {
   "cell_type": "markdown",
   "metadata": {},
   "source": [
    "📌 Análisis de 'ocupacion_principal'"
   ]
  },
  {
   "cell_type": "code",
   "execution_count": 19,
   "metadata": {},
   "outputs": [],
   "source": [
    "#Análisis de variable 'ocupacion_principal':\n",
    "## creamos un nueva categoría \"Desconocido\" para guardar los valores nulos\n",
    "df['ocupacion_principal'].fillna('missing value', inplace=True)\n",
    "#reemplazar valores en 'ocupacion_principal': \n",
    "df['ocupacion_principal'] = df['ocupacion_principal'].replace({1.0: 1, 2.0: 2, 3.0: 3, 4.0: 4, 5.0: 5, 6.0: 6, 7.0: 7 })"
   ]
  },
  {
   "cell_type": "code",
   "execution_count": 20,
   "metadata": {},
   "outputs": [],
   "source": [
    "ocupaciones = {\n",
    "    \n",
    "    1:'empleador',\n",
    "    2:'independiente',\n",
    "    3: 'empleado',\n",
    "    4: 'obrero',\n",
    "    5: 'no remunerado',\n",
    "    6: 'trab. hogar',\n",
    "    7: 'otro',\n",
    "    'missing value': 'missing value'\n",
    "}\n",
    "\n",
    "#reemplazamos los valores en la variable 'ocupacion_principal'\n",
    "df['ocupacion_principal'] = df['ocupacion_principal'].map(ocupaciones)"
   ]
  },
  {
   "cell_type": "code",
   "execution_count": 21,
   "metadata": {},
   "outputs": [
    {
     "data": {
      "text/plain": [
       "ocupacion_principal\n",
       "independiente    25254\n",
       "missing value    22421\n",
       "obrero           12697\n",
       "empleado         12042\n",
       "no remunerado    11628\n",
       "empleador         2208\n",
       "trab. hogar       1100\n",
       "otro               311\n",
       "Name: count, dtype: int64"
      ]
     },
     "execution_count": 21,
     "metadata": {},
     "output_type": "execute_result"
    }
   ],
   "source": [
    "#revisamos valores en:\n",
    "df['ocupacion_principal'].value_counts()"
   ]
  },
  {
   "cell_type": "markdown",
   "metadata": {},
   "source": [
    "📌 Análisis de trabajo en su ocupación principal = 'trabajo_ocup_principal'"
   ]
  },
  {
   "cell_type": "code",
   "execution_count": 22,
   "metadata": {},
   "outputs": [],
   "source": [
    "#Análisis de variable 'trabajo_ocup_principal':\n",
    "## creamos un nueva categoría \"Desconocido\" para guardar los valores nulos\n",
    "df['trabajo_ocup_principal'].fillna('missing value', inplace=True)\n",
    "#reemplazar valores en 'trabajo_ocup_principal':\n",
    "df['trabajo_ocup_principal'] = df['trabajo_ocup_principal'].replace({1.0: 1, 2.0: 2, 3.0: 3, 5.0: 4, 6.0: 5, 7.0: 6 })"
   ]
  },
  {
   "cell_type": "code",
   "execution_count": 23,
   "metadata": {},
   "outputs": [],
   "source": [
    "trabajos = {\n",
    "    \n",
    "    1:'f.a, pnp, etc',\n",
    "    2:'administración Pública',\n",
    "    3: 'empresa pública',\n",
    "    4: 'service',\n",
    "    5: 'empresa privada',\n",
    "    6: 'otra',\n",
    "    'missing value': 'missing value'\n",
    "}\n",
    "\n",
    "#reemplazamos los valores en la variable 'trabajo_ocup_principal'\n",
    "df['trabajo_ocup_principal'] = df['trabajo_ocup_principal'].map(trabajos)"
   ]
  },
  {
   "cell_type": "code",
   "execution_count": 24,
   "metadata": {},
   "outputs": [],
   "source": [
    "#reemplazamos empresa pública en administración Pública, dado que abarca un mismo grupo\n",
    "df['trabajo_ocup_principal'] = df['trabajo_ocup_principal'].replace({'empresa pública':'administración Pública'})"
   ]
  },
  {
   "cell_type": "code",
   "execution_count": 25,
   "metadata": {},
   "outputs": [
    {
     "data": {
      "text/plain": [
       "trabajo_ocup_principal\n",
       "missing value             62611\n",
       "empresa privada           19223\n",
       "administración Pública     5153\n",
       "service                     407\n",
       "f.a, pnp, etc               267\n",
       "Name: count, dtype: int64"
      ]
     },
     "execution_count": 25,
     "metadata": {},
     "output_type": "execute_result"
    }
   ],
   "source": [
    "#revisamos valores en:\n",
    "df['trabajo_ocup_principal'].value_counts()"
   ]
  },
  {
   "cell_type": "markdown",
   "metadata": {},
   "source": [
    "📌 Análisis de 'registro_sunat' = si la empresa donde labora está o no registrada en SUNAT"
   ]
  },
  {
   "cell_type": "code",
   "execution_count": 26,
   "metadata": {},
   "outputs": [],
   "source": [
    "#Análisis de variable 'trabajo_ocup_principal':\n",
    "## creamos un nueva categoría \"Desconocido\" para guardar los valores nulos\n",
    "df['registro_sunat'].fillna('missing value', inplace=True)\n",
    "\n",
    "#reemplazar valores en 'registro_sunat':\n",
    "df['registro_sunat'] = df['registro_sunat'].replace({1.0: 1, 2.0: 2, 3.0: 3})"
   ]
  },
  {
   "cell_type": "code",
   "execution_count": 27,
   "metadata": {},
   "outputs": [],
   "source": [
    "#crear un diccionario para mapear datos de\n",
    "\n",
    "registros_sunat = {\n",
    "    \n",
    "    1:'persona jurídica',\n",
    "    2:'persona natural',\n",
    "    3: 'no está registrado',\n",
    "    'missing value': 'missing value'\n",
    "}\n",
    "\n",
    "#reemplazamos los valores en la variable 'registro_sunat'\n",
    "df['registro_sunat'] = df['registro_sunat'].map(registros_sunat)"
   ]
  },
  {
   "cell_type": "code",
   "execution_count": 28,
   "metadata": {},
   "outputs": [
    {
     "data": {
      "text/plain": [
       "registro_sunat\n",
       "no está registrado    43786\n",
       "missing value         28941\n",
       "persona jurídica       8336\n",
       "persona natural        6598\n",
       "Name: count, dtype: int64"
      ]
     },
     "execution_count": 28,
     "metadata": {},
     "output_type": "execute_result"
    }
   ],
   "source": [
    "#revisamos valores en:\n",
    "df['registro_sunat'].value_counts()"
   ]
  },
  {
   "cell_type": "markdown",
   "metadata": {},
   "source": [
    "📌 Analizamos la variable 'sueldo_ingresos' = si la persona recibe un sueldo como ingresos o no"
   ]
  },
  {
   "cell_type": "code",
   "execution_count": 29,
   "metadata": {},
   "outputs": [],
   "source": [
    "## creamos un nueva categoría \"Desconocido\" para guardar los valores nulos\n",
    "df['sueldo_ingresos'].fillna('missing value', inplace=True)\n",
    "\n",
    "#reemplazar valores en 'sueldo_ingresos': 1:si tiene sueldo, 0: no tiene sueldo, desconocido : desconocido\n",
    "df['sueldo_ingresos'] = df['sueldo_ingresos'].replace({1.0: 1, 0.0: 0})"
   ]
  },
  {
   "cell_type": "code",
   "execution_count": 30,
   "metadata": {},
   "outputs": [],
   "source": [
    "#mapeo de la variable 'sueldo_ingresos':\n",
    "sueldos = {\n",
    "    \n",
    "    1: 'si recibe',\n",
    "    0: 'otro',\n",
    "    'missing value':'missing value'\n",
    "    \n",
    "}\n",
    "\n",
    "#reemplazamos los valores en la variable 'sueldo_ingresos'\n",
    "df['sueldo_ingresos'] = df['sueldo_ingresos'].map(sueldos)"
   ]
  },
  {
   "cell_type": "code",
   "execution_count": 31,
   "metadata": {},
   "outputs": [
    {
     "data": {
      "text/plain": [
       "sueldo_ingresos\n",
       "otro             52630\n",
       "missing value    22688\n",
       "si recibe        12343\n",
       "Name: count, dtype: int64"
      ]
     },
     "execution_count": 31,
     "metadata": {},
     "output_type": "execute_result"
    }
   ],
   "source": [
    "#revisamos valores en:\n",
    "df['sueldo_ingresos'].value_counts()"
   ]
  },
  {
   "cell_type": "markdown",
   "metadata": {},
   "source": [
    "📌 Analisis de la variable 'honorarios_ingresos' = si una persona obtiene ingresos por honorarios profesionales o no"
   ]
  },
  {
   "cell_type": "code",
   "execution_count": 32,
   "metadata": {},
   "outputs": [],
   "source": [
    "## creamos un nueva categoría \"Desconocido\" para guardar los valores nulos\n",
    "df['honorarios_ingresos'].fillna('missing value', inplace=True)\n",
    "\n",
    "#reemplazar valores en 'honorarios_ingresos': 1:si , 0: no , desconocido : desconocido\n",
    "df['honorarios_ingresos'] = df['honorarios_ingresos'].replace({1.0: 1, 0.0: 0})"
   ]
  },
  {
   "cell_type": "code",
   "execution_count": 33,
   "metadata": {},
   "outputs": [],
   "source": [
    "#mapeo de la variable 'honorarios_ingresos':\n",
    "honorarios = {\n",
    "    \n",
    "    1: 'si recibe',\n",
    "    0: 'otro',\n",
    "    'missing value':'missing value'\n",
    "    \n",
    "}\n",
    "\n",
    "#reemplazamos los valores en la variable 'honorarios_ingresos'\n",
    "df['honorarios_ingresos'] = df['honorarios_ingresos'].map(honorarios)"
   ]
  },
  {
   "cell_type": "code",
   "execution_count": 34,
   "metadata": {},
   "outputs": [
    {
     "data": {
      "text/plain": [
       "honorarios_ingresos\n",
       "otro             64583\n",
       "missing value    22688\n",
       "si recibe          390\n",
       "Name: count, dtype: int64"
      ]
     },
     "execution_count": 34,
     "metadata": {},
     "output_type": "execute_result"
    }
   ],
   "source": [
    "#revisamos valores en:\n",
    "df['honorarios_ingresos'].value_counts()"
   ]
  },
  {
   "cell_type": "markdown",
   "metadata": {},
   "source": [
    "📌 Análisis de la variable 'no_recibe_ingresos' , las personas que a pesar que tienen una ocupación principal, no perciben ningún ingreso"
   ]
  },
  {
   "cell_type": "code",
   "execution_count": 35,
   "metadata": {},
   "outputs": [],
   "source": [
    "## creamos un nueva categoría \"Desconocido\" para guardar los valores nulos\n",
    "df['no_recibe_ingresos'].fillna('missing value', inplace=True)\n",
    "\n",
    "#reemplazar valores en 'honorarios_ingresos': 1: no recibe , 0: otro , desconocido : desconocido\n",
    "df['no_recibe_ingresos'] = df['no_recibe_ingresos'].replace({1.0: 1, 0.0: 0})"
   ]
  },
  {
   "cell_type": "code",
   "execution_count": 36,
   "metadata": {},
   "outputs": [],
   "source": [
    "#mapeo de la variable 'no_recibe_ingresos':\n",
    "no_ingresos = {\n",
    "    \n",
    "    1: 'no recibe ingresos',\n",
    "    0: 'otro',\n",
    "    'missing value':'missing value'\n",
    "    \n",
    "}\n",
    "\n",
    "#reemplazamos los valores en la variable 'no_recibe_ingresos'\n",
    "df['no_recibe_ingresos'] = df['no_recibe_ingresos'].map(no_ingresos)"
   ]
  },
  {
   "cell_type": "code",
   "execution_count": 37,
   "metadata": {},
   "outputs": [
    {
     "data": {
      "text/plain": [
       "no_recibe_ingresos\n",
       "otro                  53097\n",
       "missing value         22688\n",
       "no recibe ingresos    11876\n",
       "Name: count, dtype: int64"
      ]
     },
     "execution_count": 37,
     "metadata": {},
     "output_type": "execute_result"
    }
   ],
   "source": [
    "#revisamos valores en:\n",
    "df['no_recibe_ingresos'].value_counts()"
   ]
  },
  {
   "cell_type": "markdown",
   "metadata": {},
   "source": [
    "📌 Análisis de la variable 'tipo_contrato' = el tipo de contrato que tiene la persona donde está laborando"
   ]
  },
  {
   "cell_type": "code",
   "execution_count": 38,
   "metadata": {},
   "outputs": [],
   "source": [
    "## creamos un nueva categoría \"Desconocido\" para guardar los valores nulos\n",
    "df['tipo_contrato'].fillna('missing value', inplace=True)\n",
    "\n",
    "#reemplazar valores en 'honorarios_ingresos': 1: no recibe , 0: otro , desconocido : desconocido\n",
    "df['tipo_contrato'] = df['tipo_contrato'].replace({1.0: 1, 2.0: 2, 3.0: 3, 4.0: 4, 5.0: 5, 6.0: 6, 7.0: 7 })"
   ]
  },
  {
   "cell_type": "markdown",
   "metadata": {},
   "source": [
    "5. Contrato por locación de servicios (Honorarios profesionales, RUC), SNP\n",
    "\n",
    "6. Regimen Especial de Contratación Administrativa (CAS)"
   ]
  },
  {
   "cell_type": "code",
   "execution_count": 39,
   "metadata": {},
   "outputs": [],
   "source": [
    "#mapeando valores para 'tipo_contrato'\n",
    "tipos_contratos = {\n",
    "    \n",
    "    1:'indefinido',\n",
    "    2:'plazo fijo',\n",
    "    3: 'periodo. prueba',\n",
    "    4: 'prácticas',\n",
    "    5: 'locación',\n",
    "    6: 'cas',\n",
    "    7: 'otro',\n",
    "    'missing value': 'missing value'\n",
    "}\n",
    "\n",
    "#reemplazamos los valores en la variable 'tipo_contrato'\n",
    "df['tipo_contrato'] = df['tipo_contrato'].map(tipos_contratos)"
   ]
  },
  {
   "cell_type": "code",
   "execution_count": 40,
   "metadata": {},
   "outputs": [
    {
     "data": {
      "text/plain": [
       "tipo_contrato\n",
       "missing value      50150\n",
       "otro               25320\n",
       "plazo fijo          6123\n",
       "indefinido          3753\n",
       "locación            1435\n",
       "cas                  689\n",
       "prácticas            142\n",
       "periodo. prueba       48\n",
       "Name: count, dtype: int64"
      ]
     },
     "execution_count": 40,
     "metadata": {},
     "output_type": "execute_result"
    }
   ],
   "source": [
    "#revisamos valores en:\n",
    "df['tipo_contrato'].value_counts()"
   ]
  },
  {
   "cell_type": "markdown",
   "metadata": {},
   "source": [
    "📌 Análisis de la variable 'ingreso_total' == la cantidad total de ingresos que percibe una persona en este set de datos"
   ]
  },
  {
   "cell_type": "code",
   "execution_count": 41,
   "metadata": {},
   "outputs": [],
   "source": [
    "## creamos el missing value '999999' por 'nan' para evitar problemas en el cálculo estadístico\n",
    "df['ingreso_total'].replace(999999, np.nan, inplace=True)"
   ]
  },
  {
   "cell_type": "code",
   "execution_count": 42,
   "metadata": {},
   "outputs": [
    {
     "data": {
      "text/plain": [
       "count    25343.000000\n",
       "mean      1240.874009\n",
       "std       1441.637968\n",
       "min          1.000000\n",
       "25%        280.000000\n",
       "50%        900.000000\n",
       "75%       1700.000000\n",
       "max      30000.000000\n",
       "Name: ingreso_total, dtype: float64"
      ]
     },
     "execution_count": 42,
     "metadata": {},
     "output_type": "execute_result"
    }
   ],
   "source": [
    "df['ingreso_total'].describe()"
   ]
  },
  {
   "cell_type": "markdown",
   "metadata": {},
   "source": [
    "📌 Completando los valores nulos para 'ingreso_total' dado que La mediana es la técnica más robusta frente a outliers, observamos que nuestro dataset contiene valores extremos (ingresos muy altos(max): '30000' o bajos(min):'1'), la mediana es una mejor medida de tendencia central.\n",
    "\n",
    "📌 completar los valores nulos en la variable 'ingreso_total' usando la mediana de acuerdo a la zona (urbano o rural)"
   ]
  },
  {
   "cell_type": "code",
   "execution_count": 43,
   "metadata": {},
   "outputs": [],
   "source": [
    "# Agrupar por la columna 'zona' (urbano/rural) y calcular la mediana para cada grupo\n",
    "mediana_por_zona = df.groupby('zonas')['ingreso_total'].median()\n",
    "\n",
    "# Crear una función que complete los valores nulos con la mediana correspondiente a la zona\n",
    "def completar_valores_nulos(row):\n",
    "    if pd.isnull(row['ingreso_total']):\n",
    "        return mediana_por_zona[row['zonas']]\n",
    "    else:\n",
    "        return row['ingreso_total']\n",
    "    \n",
    "# Aplicar la función fila por fila usando 'apply'\n",
    "df['ingreso_total'] = df.apply(completar_valores_nulos, axis=1)"
   ]
  },
  {
   "cell_type": "code",
   "execution_count": 44,
   "metadata": {},
   "outputs": [
    {
     "data": {
      "text/plain": [
       "0"
      ]
     },
     "execution_count": 44,
     "metadata": {},
     "output_type": "execute_result"
    }
   ],
   "source": [
    "# Verificar si los valores nulos han sido reemplazados\n",
    "df['ingreso_total'].isnull().sum()"
   ]
  },
  {
   "cell_type": "markdown",
   "metadata": {},
   "source": [
    "📌 Análisis de la variable 'ocupinf' == situación de informalidad en su ocupación principal\n",
    "\n",
    "        1 == empleo formal\n",
    "        2 == empleo informal"
   ]
  },
  {
   "cell_type": "code",
   "execution_count": 45,
   "metadata": {},
   "outputs": [],
   "source": [
    "## creamos un nueva categoría \"Desconocido\" para guardar los valores nulos\n",
    "df['ocupinf'].fillna('missing value', inplace=True)\n",
    "\n",
    "#reemplazar valores en 'honorarios_ingresos': 1: no recibe , 0: otro , desconocido : desconocido\n",
    "df['ocupinf'] = df['ocupinf'].replace({1.0: 1, 2.0: 2})"
   ]
  },
  {
   "cell_type": "code",
   "execution_count": 46,
   "metadata": {},
   "outputs": [],
   "source": [
    "#mapeando valores para 'ocupinf'\n",
    "situación_ocupacion = {\n",
    "    \n",
    "    1:'empleo formal',\n",
    "    2:'empleo informal',\n",
    "    'missing value': 'missing value'\n",
    "}\n",
    "\n",
    "#reemplazamos los valores en la variable 'ocupinf'\n",
    "df['ocupinf'] = df['ocupinf'].map(situación_ocupacion)"
   ]
  },
  {
   "cell_type": "code",
   "execution_count": 47,
   "metadata": {},
   "outputs": [
    {
     "data": {
      "text/plain": [
       "ocupinf\n",
       "empleo formal      48339\n",
       "missing value      26480\n",
       "empleo informal    12842\n",
       "Name: count, dtype: int64"
      ]
     },
     "execution_count": 47,
     "metadata": {},
     "output_type": "execute_result"
    }
   ],
   "source": [
    "df['ocupinf'].value_counts()"
   ]
  },
  {
   "cell_type": "markdown",
   "metadata": {},
   "source": [
    "🎯 Valores\n",
    "\n",
    "        * 'empleo_fijo'(3): 1: si, 0: no, desconocido\n",
    "        * 'negocio_propio'(3): 1: si, 0: no, desconocido\n",
    "        * 'ocupación_principal'(8)\n",
    "        * 'trabajo_ocup_principal'(7)\n",
    "        * 'registro_sunat'(3)\n",
    "        * 'sueldo_ingresos'(3): 1: si, 0: otro, desconocido\n",
    "        * 'honorarios_ingresos'(3) 1: si, 0: otro, desconocido\n",
    "        * 'no_recibe_ingreso':(3) 1: no recibe, 0: otro, desconocido\n",
    "        * 'tipo_contrato'(8)\n",
    "        * 'ingreso_total': variable a analizar para calculo de la pobreza\n",
    "        * 'ocupinf'(3)\n"
   ]
  },
  {
   "cell_type": "markdown",
   "metadata": {},
   "source": [
    "# VERIFICAR VALORES DUPLICADOS"
   ]
  },
  {
   "cell_type": "code",
   "execution_count": 48,
   "metadata": {},
   "outputs": [
    {
     "name": "stdout",
     "output_type": "stream",
     "text": [
      "7940\n",
      "--------------\n",
      "7940\n"
     ]
    }
   ],
   "source": [
    "#verificar valores duplicados\n",
    "print(df.duplicated().sum())\n",
    "print('--------------')\n",
    "print(df.duplicated().sum().max())"
   ]
  },
  {
   "cell_type": "code",
   "execution_count": 49,
   "metadata": {},
   "outputs": [
    {
     "name": "stdout",
     "output_type": "stream",
     "text": [
      "(87661, 17)\n",
      "(79721, 17)\n"
     ]
    }
   ],
   "source": [
    "#Eliminando filas duplicadas\n",
    "print(df.shape)\n",
    "df.drop_duplicates(inplace=True)\n",
    "print(df.shape)"
   ]
  },
  {
   "cell_type": "code",
   "execution_count": 50,
   "metadata": {},
   "outputs": [
    {
     "name": "stdout",
     "output_type": "stream",
     "text": [
      "<class 'pandas.core.frame.DataFrame'>\n",
      "Index: 79721 entries, 0 to 87659\n",
      "Data columns (total 17 columns):\n",
      " #   Column                      Non-Null Count  Dtype   \n",
      "---  ------                      --------------  -----   \n",
      " 0   mes                         79721 non-null  category\n",
      " 1   ubigeo                      79721 non-null  int64   \n",
      " 2   dominio                     79721 non-null  object  \n",
      " 3   estrato                     79721 non-null  object  \n",
      " 4   empleo_fijo                 79721 non-null  object  \n",
      " 5   negocio_propio              79721 non-null  object  \n",
      " 6   ocupacion_principal         79721 non-null  object  \n",
      " 7   trabajo_ocup_principal      79721 non-null  object  \n",
      " 8   registro_sunat              79721 non-null  object  \n",
      " 9   sueldo_ingresos             79721 non-null  object  \n",
      " 10  honorarios_ingresos         79721 non-null  object  \n",
      " 11  no_recibe_ingresos          79721 non-null  object  \n",
      " 12  tipo_contrato               79720 non-null  object  \n",
      " 13  ingreso_total               79721 non-null  float64 \n",
      " 14  ocupinf                     79721 non-null  object  \n",
      " 15  fact_expan_ingresos_empleo  79721 non-null  float64 \n",
      " 16  zonas                       79721 non-null  object  \n",
      "dtypes: category(1), float64(2), int64(1), object(13)\n",
      "memory usage: 10.4+ MB\n"
     ]
    }
   ],
   "source": [
    "df.info()\n",
    "#Index: 79721 entries, 0 to 87659"
   ]
  },
  {
   "cell_type": "code",
   "execution_count": 51,
   "metadata": {},
   "outputs": [
    {
     "name": "stdout",
     "output_type": "stream",
     "text": [
      "(79721, 17)\n",
      "(79720, 17)\n"
     ]
    }
   ],
   "source": [
    "#tipo de contrato tiene un valor nulo, por lo que se elimina\n",
    "print(df.shape)\n",
    "df.dropna(inplace=True)\n",
    "print(df.shape)"
   ]
  },
  {
   "cell_type": "code",
   "execution_count": 52,
   "metadata": {},
   "outputs": [
    {
     "name": "stdout",
     "output_type": "stream",
     "text": [
      "<class 'pandas.core.frame.DataFrame'>\n",
      "Index: 79720 entries, 0 to 87659\n",
      "Data columns (total 17 columns):\n",
      " #   Column                      Non-Null Count  Dtype   \n",
      "---  ------                      --------------  -----   \n",
      " 0   mes                         79720 non-null  category\n",
      " 1   ubigeo                      79720 non-null  int64   \n",
      " 2   dominio                     79720 non-null  object  \n",
      " 3   estrato                     79720 non-null  object  \n",
      " 4   empleo_fijo                 79720 non-null  object  \n",
      " 5   negocio_propio              79720 non-null  object  \n",
      " 6   ocupacion_principal         79720 non-null  object  \n",
      " 7   trabajo_ocup_principal      79720 non-null  object  \n",
      " 8   registro_sunat              79720 non-null  object  \n",
      " 9   sueldo_ingresos             79720 non-null  object  \n",
      " 10  honorarios_ingresos         79720 non-null  object  \n",
      " 11  no_recibe_ingresos          79720 non-null  object  \n",
      " 12  tipo_contrato               79720 non-null  object  \n",
      " 13  ingreso_total               79720 non-null  float64 \n",
      " 14  ocupinf                     79720 non-null  object  \n",
      " 15  fact_expan_ingresos_empleo  79720 non-null  float64 \n",
      " 16  zonas                       79720 non-null  object  \n",
      "dtypes: category(1), float64(2), int64(1), object(13)\n",
      "memory usage: 10.4+ MB\n"
     ]
    }
   ],
   "source": [
    "df.info()\n",
    "#Index: 79720 entries, 0 to 87659"
   ]
  },
  {
   "cell_type": "markdown",
   "metadata": {},
   "source": [
    "📌 verificando subniveles en variables categóricas"
   ]
  },
  {
   "cell_type": "code",
   "execution_count": 53,
   "metadata": {},
   "outputs": [
    {
     "name": "stdout",
     "output_type": "stream",
     "text": [
      "dominio: 8 subniveles\n",
      "estrato: 8 subniveles\n",
      "empleo_fijo: 3 subniveles\n",
      "negocio_propio: 3 subniveles\n",
      "ocupacion_principal: 8 subniveles\n",
      "trabajo_ocup_principal: 5 subniveles\n",
      "registro_sunat: 4 subniveles\n",
      "sueldo_ingresos: 3 subniveles\n",
      "honorarios_ingresos: 3 subniveles\n",
      "no_recibe_ingresos: 3 subniveles\n",
      "tipo_contrato: 8 subniveles\n",
      "ocupinf: 3 subniveles\n",
      "zonas: 2 subniveles\n"
     ]
    }
   ],
   "source": [
    "#filtrando las variables categóricas\n",
    "cols_cat = df.select_dtypes(include='object')\n",
    "#verificando subniveles en variables categóricas\n",
    "for i, col in enumerate(cols_cat):\n",
    "    print(f'{col}: {cols_cat[col].nunique()} subniveles')"
   ]
  },
  {
   "cell_type": "code",
   "execution_count": 54,
   "metadata": {},
   "outputs": [
    {
     "data": {
      "text/html": [
       "<div>\n",
       "<style scoped>\n",
       "    .dataframe tbody tr th:only-of-type {\n",
       "        vertical-align: middle;\n",
       "    }\n",
       "\n",
       "    .dataframe tbody tr th {\n",
       "        vertical-align: top;\n",
       "    }\n",
       "\n",
       "    .dataframe thead th {\n",
       "        text-align: right;\n",
       "    }\n",
       "</style>\n",
       "<table border=\"1\" class=\"dataframe\">\n",
       "  <thead>\n",
       "    <tr style=\"text-align: right;\">\n",
       "      <th></th>\n",
       "      <th>ubigeo</th>\n",
       "      <th>ingreso_total</th>\n",
       "      <th>fact_expan_ingresos_empleo</th>\n",
       "    </tr>\n",
       "  </thead>\n",
       "  <tbody>\n",
       "    <tr>\n",
       "      <th>count</th>\n",
       "      <td>79720.000000</td>\n",
       "      <td>79720.000000</td>\n",
       "      <td>79720.000000</td>\n",
       "    </tr>\n",
       "    <tr>\n",
       "      <th>mean</th>\n",
       "      <td>131309.847178</td>\n",
       "      <td>925.815416</td>\n",
       "      <td>300.135530</td>\n",
       "    </tr>\n",
       "    <tr>\n",
       "      <th>std</th>\n",
       "      <td>67410.221163</td>\n",
       "      <td>881.702800</td>\n",
       "      <td>324.613770</td>\n",
       "    </tr>\n",
       "    <tr>\n",
       "      <th>min</th>\n",
       "      <td>10101.000000</td>\n",
       "      <td>1.000000</td>\n",
       "      <td>0.284521</td>\n",
       "    </tr>\n",
       "    <tr>\n",
       "      <th>25%</th>\n",
       "      <td>80101.000000</td>\n",
       "      <td>300.000000</td>\n",
       "      <td>96.727310</td>\n",
       "    </tr>\n",
       "    <tr>\n",
       "      <th>50%</th>\n",
       "      <td>140106.000000</td>\n",
       "      <td>1000.000000</td>\n",
       "      <td>209.076630</td>\n",
       "    </tr>\n",
       "    <tr>\n",
       "      <th>75%</th>\n",
       "      <td>180301.000000</td>\n",
       "      <td>1000.000000</td>\n",
       "      <td>369.175629</td>\n",
       "    </tr>\n",
       "    <tr>\n",
       "      <th>max</th>\n",
       "      <td>250305.000000</td>\n",
       "      <td>30000.000000</td>\n",
       "      <td>2438.282959</td>\n",
       "    </tr>\n",
       "  </tbody>\n",
       "</table>\n",
       "</div>"
      ],
      "text/plain": [
       "              ubigeo  ingreso_total  fact_expan_ingresos_empleo\n",
       "count   79720.000000   79720.000000                79720.000000\n",
       "mean   131309.847178     925.815416                  300.135530\n",
       "std     67410.221163     881.702800                  324.613770\n",
       "min     10101.000000       1.000000                    0.284521\n",
       "25%     80101.000000     300.000000                   96.727310\n",
       "50%    140106.000000    1000.000000                  209.076630\n",
       "75%    180301.000000    1000.000000                  369.175629\n",
       "max    250305.000000   30000.000000                 2438.282959"
      ]
     },
     "execution_count": 54,
     "metadata": {},
     "output_type": "execute_result"
    }
   ],
   "source": [
    "#verificando un solo valor en variables numericas\n",
    "df.describe()"
   ]
  },
  {
   "cell_type": "markdown",
   "metadata": {},
   "source": [
    "📌 graficando la variable 'ingreso_total' para verificar la distribución de los datos"
   ]
  },
  {
   "cell_type": "code",
   "execution_count": 55,
   "metadata": {},
   "outputs": [
    {
     "data": {
      "text/plain": [
       "Text(0.5, 0, 'Ingreso total mensual')"
      ]
     },
     "execution_count": 55,
     "metadata": {},
     "output_type": "execute_result"
    },
    {
     "data": {
      "image/png": "[encoded data removed]",
      "text/plain": [
       "<Figure size 1500x500 with 1 Axes>"
      ]
     },
     "metadata": {},
     "output_type": "display_data"
    }
   ],
   "source": [
    "plt.figure(figsize=(15,5))\n",
    "sns.boxplot(x='ingreso_total', data=df, palette = 'Set2')\n",
    "plt.xlabel('Ingreso total mensual')\n"
   ]
  },
  {
   "cell_type": "markdown",
   "metadata": {},
   "source": [
    "📌 Analizamos las variables categóricas "
   ]
  },
  {
   "cell_type": "code",
   "execution_count": 56,
   "metadata": {},
   "outputs": [
    {
     "data": {
      "image/png": "[encoded data removed]",
      "text/plain": [
       "<Figure size 1400x2800 with 13 Axes>"
      ]
     },
     "metadata": {},
     "output_type": "display_data"
    }
   ],
   "source": [
    "#seleccionamos solo las variables categóricas\n",
    "cols_cat = df.select_dtypes(include=['object'])\n",
    "\n",
    "# Definimos el número de filas y columnas de acuerdo con el número de variables categóricas\n",
    "num_vars = len(cols_cat.columns)\n",
    "num_rows = (num_vars // 2) + (num_vars % 2)  # Dos gráficos por fila\n",
    "\n",
    "# Creamos los subplots\n",
    "fig, axes = plt.subplots(nrows=num_rows, ncols=2, figsize=(14, num_rows * 4))\n",
    "fig.subplots_adjust(hspace=0.5)\n",
    "\n",
    "# Aplanamos el array de axes en caso de que haya más de 1 fila/columna\n",
    "axes = axes.flatten()\n",
    "\n",
    "# Recorremos las columnas categóricas y graficamos\n",
    "for i, col in enumerate(cols_cat.columns):\n",
    "    sns.countplot(x=col, data=df, ax=axes[i], palette='Set2')\n",
    "    axes[i].set_title(col)\n",
    "    axes[i].set_xticklabels(axes[i].get_xticklabels(), rotation=30)\n",
    "\n",
    "# Si hay más subplots de los necesarios, los desactivamos\n",
    "for j in range(i + 1, len(axes)):\n",
    "    fig.delaxes(axes[j])\n",
    "\n",
    "# Ajustamos la visualización\n",
    "plt.tight_layout()\n",
    "plt.show()"
   ]
  },
  {
   "cell_type": "markdown",
   "metadata": {},
   "source": [
    "🎯 verificamos el promedio de ingresos por zona"
   ]
  },
  {
   "cell_type": "code",
   "execution_count": 57,
   "metadata": {},
   "outputs": [
    {
     "data": {
      "text/plain": [
       "zonas\n",
       "rural      358.910701\n",
       "urbano    1133.836008\n",
       "Name: ingreso_total, dtype: float64"
      ]
     },
     "execution_count": 57,
     "metadata": {},
     "output_type": "execute_result"
    }
   ],
   "source": [
    "df.groupby(df['zonas'])['ingreso_total'].mean()"
   ]
  },
  {
   "cell_type": "code",
   "execution_count": 58,
   "metadata": {},
   "outputs": [
    {
     "data": {
      "text/html": [
       "<div>\n",
       "<style scoped>\n",
       "    .dataframe tbody tr th:only-of-type {\n",
       "        vertical-align: middle;\n",
       "    }\n",
       "\n",
       "    .dataframe tbody tr th {\n",
       "        vertical-align: top;\n",
       "    }\n",
       "\n",
       "    .dataframe thead th {\n",
       "        text-align: right;\n",
       "    }\n",
       "</style>\n",
       "<table border=\"1\" class=\"dataframe\">\n",
       "  <thead>\n",
       "    <tr style=\"text-align: right;\">\n",
       "      <th></th>\n",
       "      <th>mes</th>\n",
       "      <th>ubigeo</th>\n",
       "      <th>dominio</th>\n",
       "      <th>estrato</th>\n",
       "      <th>empleo_fijo</th>\n",
       "      <th>negocio_propio</th>\n",
       "      <th>ocupacion_principal</th>\n",
       "      <th>trabajo_ocup_principal</th>\n",
       "      <th>registro_sunat</th>\n",
       "      <th>sueldo_ingresos</th>\n",
       "      <th>honorarios_ingresos</th>\n",
       "      <th>no_recibe_ingresos</th>\n",
       "      <th>tipo_contrato</th>\n",
       "      <th>ingreso_total</th>\n",
       "      <th>ocupinf</th>\n",
       "      <th>fact_expan_ingresos_empleo</th>\n",
       "      <th>zonas</th>\n",
       "    </tr>\n",
       "  </thead>\n",
       "  <tbody>\n",
       "    <tr>\n",
       "      <th>0</th>\n",
       "      <td>Febrero</td>\n",
       "      <td>10101</td>\n",
       "      <td>Sierra Norte</td>\n",
       "      <td>20,000 a 49,999</td>\n",
       "      <td>missing value</td>\n",
       "      <td>missing value</td>\n",
       "      <td>empleado</td>\n",
       "      <td>administración Pública</td>\n",
       "      <td>missing value</td>\n",
       "      <td>si recibe</td>\n",
       "      <td>otro</td>\n",
       "      <td>otro</td>\n",
       "      <td>indefinido</td>\n",
       "      <td>5000.0</td>\n",
       "      <td>empleo informal</td>\n",
       "      <td>48.341564</td>\n",
       "      <td>urbano</td>\n",
       "    </tr>\n",
       "    <tr>\n",
       "      <th>1</th>\n",
       "      <td>Febrero</td>\n",
       "      <td>10101</td>\n",
       "      <td>Sierra Norte</td>\n",
       "      <td>20,000 a 49,999</td>\n",
       "      <td>missing value</td>\n",
       "      <td>missing value</td>\n",
       "      <td>obrero</td>\n",
       "      <td>empresa privada</td>\n",
       "      <td>persona natural</td>\n",
       "      <td>otro</td>\n",
       "      <td>otro</td>\n",
       "      <td>otro</td>\n",
       "      <td>otro</td>\n",
       "      <td>800.0</td>\n",
       "      <td>empleo formal</td>\n",
       "      <td>46.851582</td>\n",
       "      <td>urbano</td>\n",
       "    </tr>\n",
       "    <tr>\n",
       "      <th>2</th>\n",
       "      <td>Febrero</td>\n",
       "      <td>10101</td>\n",
       "      <td>Sierra Norte</td>\n",
       "      <td>20,000 a 49,999</td>\n",
       "      <td>missing value</td>\n",
       "      <td>missing value</td>\n",
       "      <td>empleado</td>\n",
       "      <td>administración Pública</td>\n",
       "      <td>missing value</td>\n",
       "      <td>si recibe</td>\n",
       "      <td>otro</td>\n",
       "      <td>otro</td>\n",
       "      <td>indefinido</td>\n",
       "      <td>1660.0</td>\n",
       "      <td>empleo informal</td>\n",
       "      <td>50.011681</td>\n",
       "      <td>urbano</td>\n",
       "    </tr>\n",
       "    <tr>\n",
       "      <th>3</th>\n",
       "      <td>Febrero</td>\n",
       "      <td>10101</td>\n",
       "      <td>Sierra Norte</td>\n",
       "      <td>20,000 a 49,999</td>\n",
       "      <td>missing value</td>\n",
       "      <td>missing value</td>\n",
       "      <td>empleado</td>\n",
       "      <td>administración Pública</td>\n",
       "      <td>missing value</td>\n",
       "      <td>si recibe</td>\n",
       "      <td>otro</td>\n",
       "      <td>otro</td>\n",
       "      <td>indefinido</td>\n",
       "      <td>2300.0</td>\n",
       "      <td>empleo informal</td>\n",
       "      <td>26.674692</td>\n",
       "      <td>urbano</td>\n",
       "    </tr>\n",
       "    <tr>\n",
       "      <th>4</th>\n",
       "      <td>Febrero</td>\n",
       "      <td>10101</td>\n",
       "      <td>Sierra Norte</td>\n",
       "      <td>20,000 a 49,999</td>\n",
       "      <td>missing value</td>\n",
       "      <td>missing value</td>\n",
       "      <td>independiente</td>\n",
       "      <td>missing value</td>\n",
       "      <td>no está registrado</td>\n",
       "      <td>otro</td>\n",
       "      <td>otro</td>\n",
       "      <td>otro</td>\n",
       "      <td>missing value</td>\n",
       "      <td>1000.0</td>\n",
       "      <td>empleo formal</td>\n",
       "      <td>124.382034</td>\n",
       "      <td>urbano</td>\n",
       "    </tr>\n",
       "  </tbody>\n",
       "</table>\n",
       "</div>"
      ],
      "text/plain": [
       "       mes  ubigeo       dominio          estrato    empleo_fijo  \\\n",
       "0  Febrero   10101  Sierra Norte  20,000 a 49,999  missing value   \n",
       "1  Febrero   10101  Sierra Norte  20,000 a 49,999  missing value   \n",
       "2  Febrero   10101  Sierra Norte  20,000 a 49,999  missing value   \n",
       "3  Febrero   10101  Sierra Norte  20,000 a 49,999  missing value   \n",
       "4  Febrero   10101  Sierra Norte  20,000 a 49,999  missing value   \n",
       "\n",
       "  negocio_propio ocupacion_principal  trabajo_ocup_principal  \\\n",
       "0  missing value            empleado  administración Pública   \n",
       "1  missing value              obrero         empresa privada   \n",
       "2  missing value            empleado  administración Pública   \n",
       "3  missing value            empleado  administración Pública   \n",
       "4  missing value       independiente           missing value   \n",
       "\n",
       "       registro_sunat sueldo_ingresos honorarios_ingresos no_recibe_ingresos  \\\n",
       "0       missing value       si recibe                otro               otro   \n",
       "1     persona natural            otro                otro               otro   \n",
       "2       missing value       si recibe                otro               otro   \n",
       "3       missing value       si recibe                otro               otro   \n",
       "4  no está registrado            otro                otro               otro   \n",
       "\n",
       "   tipo_contrato  ingreso_total          ocupinf  fact_expan_ingresos_empleo  \\\n",
       "0     indefinido         5000.0  empleo informal                   48.341564   \n",
       "1           otro          800.0    empleo formal                   46.851582   \n",
       "2     indefinido         1660.0  empleo informal                   50.011681   \n",
       "3     indefinido         2300.0  empleo informal                   26.674692   \n",
       "4  missing value         1000.0    empleo formal                  124.382034   \n",
       "\n",
       "    zonas  \n",
       "0  urbano  \n",
       "1  urbano  \n",
       "2  urbano  \n",
       "3  urbano  \n",
       "4  urbano  "
      ]
     },
     "execution_count": 58,
     "metadata": {},
     "output_type": "execute_result"
    }
   ],
   "source": [
    "df.head()"
   ]
  },
  {
   "cell_type": "markdown",
   "metadata": {},
   "source": [
    "# Conclusiones del dataset analizado:\n",
    "\n",
    "✅ *1. Disparidad significativa de ingresos:* Se observó una diferencia marcada entre las zonas rurales y urbanas de Perú. Los ingresos promedios en zonas urbanas (S/1,133.84) son significativamente más altos que en zonas rurales (S/358.91), lo que resalta una brecha importante de desarrollo económico y acceso a oportunidades laborales.\n",
    "\n",
    "✅ *2. Predominio del empleo informal:* El análisis evidenció que una parte considerable de la población se encuentra en empleo informal, lo cual impacta negativamente en sus ingresos y estabilidad laboral. Las personas en esta situación muestran una tendencia a tener ingresos más bajos y sin contratos laborales estables.\n",
    "\n",
    "✅ *3. Variabilidad en los ingresos por tipo de empleo:* La diversidad en los tipos de empleo (empleo fijo, negocio propio, ocupaciones informales) genera una gran dispersión en los ingresos, observándose que las personas con empleo fijo y negocios propios tienden a tener mayores ingresos.\n",
    "\n",
    "✅ *4. Calidad y consistencia de los datos:* Durante la limpieza de los datos, se eliminaron duplicados y registros con valores nulos, lo que permitió mejorar la calidad del análisis. La identificación y tratamiento de valores faltantes en variables como \"tipo de contrato\" y la categorización de subniveles dentro de las variables cualitativas aseguraron un conjunto de datos consistente para el análisis."
   ]
  },
  {
   "cell_type": "code",
   "execution_count": 59,
   "metadata": {},
   "outputs": [],
   "source": [
    "#guardamos la data para pasar al análisis exploratorio\n",
    "ruta = ('C:\\\\Users\\\\LENOVO\\\\Desktop\\\\Projects\\\\Poverty-Peru\\\\data2022-500-limpia.csv')\n",
    "\n",
    "df.to_csv(ruta,index=False)\n"
   ]
  }
 ],
 "metadata": {
  "kernelspec": {
   "display_name": "base",
   "language": "python",
   "name": "python3"
  },
  "language_info": {
   "codemirror_mode": {
    "name": "ipython",
    "version": 3
   },
   "file_extension": ".py",
   "mimetype": "text/x-python",
   "name": "python",
   "nbconvert_exporter": "python",
   "pygments_lexer": "ipython3",
   "version": "3.12.4"
  }
 },
 "nbformat": 4,
 "nbformat_minor": 2
}
